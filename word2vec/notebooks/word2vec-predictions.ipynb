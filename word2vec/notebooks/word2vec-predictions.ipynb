{
 "cells": [
  {
   "cell_type": "markdown",
   "metadata": {},
   "source": [
    "# Word2Vec Predictions"
   ]
  },
  {
   "cell_type": "code",
   "execution_count": 1,
   "metadata": {},
   "outputs": [],
   "source": [
    "import word2vec"
   ]
  },
  {
   "cell_type": "code",
   "execution_count": 2,
   "metadata": {},
   "outputs": [],
   "source": [
    "model = word2vec.load('../word2vec_output.bin')"
   ]
  },
  {
   "cell_type": "code",
   "execution_count": 3,
   "metadata": {},
   "outputs": [
    {
     "data": {
      "text/plain": [
       "array(['</s>', 'fernand_léger', 'maurice_utrillo',\n",
       "       'andré_dunoyer_de_segonzac', 'georges_rouault', 'georges_braque',\n",
       "       'marc_chagall', 'giorgio_de_chirico', 'pablo_picasso',\n",
       "       'andré_derain', 'joan_miré', 'raoul_dufy', 'jean_fautrier',\n",
       "       'jean-louis_forain', 'henri_matisse', 'marcel_gromaire',\n",
       "       'jean_luréat', 'marie_laurencin', 'eugene_speicher',\n",
       "       'preston_dickinson', 'charles_burchfield',\n",
       "       'george_overbury_(\"pop\")_hart', 'edward_hopper', 'bernard_karfiol',\n",
       "       'maurice_sterne', 'walt_kuhn', 'yasuo_kuniyoshi', 'max_weber',\n",
       "       'john_marin', 'kenneth_hayes_miller', \"georgia_o'keeffe\",\n",
       "       'jules_pascin', 'john_sloan', 'charles_demuth',\n",
       "       'georges-pierre_seurat', 'rudolf_belling', 'peter_blume',\n",
       "       'paul_cézanne', 'jean_charlot', 'charles_despiau', 'thomas_eakins',\n",
       "       'paul_gauguin', 'vincent_van_gogh', 'stefan_hirsch',\n",
       "       'winslow_homer', 'paul_klee', 'charles_lapique',\n",
       "       'wilhelm_lehmbruck', 'aristide_maillol', 'reginald_marsh',\n",
       "       'marjorie_phillips', 'albert_pinkham_ryder', 'pavel_tchelitchew',\n",
       "       'sidney_laufman', 'george_luks', 'henry_lee_mcfee',\n",
       "       'boardman_robinson', 'henry_e._schnakenberg', 'charles_sheeler',\n",
       "       'niles_spencer', 'augustus_vincent_tack', 'dudley_vail_talcott',\n",
       "       'mark_tobey', 'arnold_friedman', 'william_glackens', 'anna_glenny',\n",
       "       'marsden_hartley', 'childe_hassam', 'john_kane', 'morris_kantor',\n",
       "       'karl_knaths', 'benjamin_kopman', 'leon_kroll', 'gaston_lachaise',\n",
       "       'robert_laurent', 'william_zorach', 'gifford_beal', 'paul_burlin',\n",
       "       'alexander_calder', 'vincent_canadé', 'arthur_b._carles',\n",
       "       'james_chapin', 'merton_clivette', 'andrew_dasburg',\n",
       "       'stuart_davis', 'wilhelm_hunt_diederich', 'paul_dougherty',\n",
       "       'arthur_dove', 'guy_péne_du_bois', 'ernest_fiene', 'othon_friesz',\n",
       "       'maurice_dufrésne', 'robert_delaunay', 'pierre_bonnard',\n",
       "       'maurice_de_vlaminck', 'édouard_vuillard', 'moése_kisling',\n",
       "       'chaim_soutine', 'léopold_survage', 'ernest_lawson',\n",
       "       'rockwell_kent', 'lyonel_feininger'], dtype='<U78')"
      ]
     },
     "execution_count": 3,
     "metadata": {},
     "output_type": "execute_result"
    }
   ],
   "source": [
    "model.vocab"
   ]
  },
  {
   "cell_type": "code",
   "execution_count": 4,
   "metadata": {},
   "outputs": [
    {
     "data": {
      "text/plain": [
       "(102, 100)"
      ]
     },
     "execution_count": 4,
     "metadata": {},
     "output_type": "execute_result"
    }
   ],
   "source": [
    "model.vectors.shape"
   ]
  },
  {
   "cell_type": "code",
   "execution_count": 5,
   "metadata": {
    "collapsed": true
   },
   "outputs": [
    {
     "data": {
      "text/plain": [
       "array([[ 0.14333282,  0.15825513, -0.13715845, ...,  0.05456942,\n",
       "         0.10955409,  0.00693387],\n",
       "       [-0.00431927, -0.03800113, -0.0573118 , ..., -0.07232553,\n",
       "        -0.09418871, -0.11680265],\n",
       "       [ 0.06790532, -0.06481119, -0.15439902, ...,  0.14319313,\n",
       "         0.16138321, -0.03507437],\n",
       "       ...,\n",
       "       [ 0.27702227, -0.02695753,  0.00124174, ...,  0.16238669,\n",
       "        -0.1255085 , -0.05895034],\n",
       "       [ 0.28362623, -0.02085204,  0.0028802 , ...,  0.1635312 ,\n",
       "        -0.07826292, -0.06318415],\n",
       "       [ 0.25944555, -0.04757323, -0.02341796, ...,  0.14573076,\n",
       "        -0.16140938, -0.02375621]])"
      ]
     },
     "execution_count": 5,
     "metadata": {},
     "output_type": "execute_result"
    }
   ],
   "source": [
    "model.vectors"
   ]
  },
  {
   "cell_type": "code",
   "execution_count": 6,
   "metadata": {
    "collapsed": true
   },
   "outputs": [
    {
     "data": {
      "text/plain": [
       "array([-0.04954736, -0.03943177, -0.02103854, -0.10006628, -0.17874455,\n",
       "       -0.02928579,  0.05736287, -0.0199811 ,  0.07572708,  0.09835204,\n",
       "        0.07968219, -0.12755625, -0.14793198, -0.0004755 ,  0.08395731,\n",
       "       -0.04055498, -0.07371921,  0.01179733,  0.18775894,  0.07624867,\n",
       "       -0.04059174, -0.11605363, -0.02793934,  0.27675062,  0.01011064,\n",
       "        0.01033715,  0.10153411,  0.17619459,  0.16749901, -0.10491019,\n",
       "       -0.11198916, -0.00174006,  0.15222861, -0.00050569, -0.0696304 ,\n",
       "        0.09815333,  0.00701982,  0.02198385,  0.02670189,  0.15937772,\n",
       "        0.10644481, -0.09047818,  0.1142622 , -0.14566384,  0.02083882,\n",
       "        0.21458389, -0.07428389, -0.01227297, -0.01343141,  0.12586705,\n",
       "        0.00267   ,  0.13012248,  0.04267688, -0.01907151,  0.09916122,\n",
       "       -0.05330651, -0.00874292, -0.12806217, -0.02148996, -0.05556433,\n",
       "        0.11269039,  0.0863409 , -0.01251725,  0.01014367,  0.18351509,\n",
       "       -0.09320828,  0.08472324,  0.00828193, -0.1444075 ,  0.00661688,\n",
       "       -0.03563483,  0.0635227 , -0.08601362,  0.08854759,  0.02657135,\n",
       "       -0.03813875, -0.08650575, -0.2199467 ,  0.24273808, -0.09897866,\n",
       "        0.07681324, -0.13423571,  0.12755397, -0.10983596, -0.02506357,\n",
       "       -0.06641044,  0.0906384 ,  0.10273127,  0.06303657, -0.07816955,\n",
       "        0.1151455 , -0.0215732 ,  0.01948553,  0.1710975 ,  0.05749642,\n",
       "       -0.12628488, -0.10457452,  0.00238327,  0.04170376, -0.10188545])"
      ]
     },
     "execution_count": 6,
     "metadata": {},
     "output_type": "execute_result"
    }
   ],
   "source": [
    "model['paul_gauguin']"
   ]
  },
  {
   "cell_type": "code",
   "execution_count": 7,
   "metadata": {},
   "outputs": [
    {
     "data": {
      "text/plain": [
       "[('paul_gauguin', 'georges_braque', 0.05115340706548062),\n",
       " ('paul_gauguin', 'pablo_picasso', 0.06004839690340257),\n",
       " ('georges_braque', 'pablo_picasso', -0.010018659086387133)]"
      ]
     },
     "execution_count": 7,
     "metadata": {},
     "output_type": "execute_result"
    }
   ],
   "source": [
    "model.distance('paul_gauguin', 'georges_braque', 'pablo_picasso')"
   ]
  },
  {
   "cell_type": "code",
   "execution_count": 8,
   "metadata": {},
   "outputs": [
    {
     "data": {
      "text/plain": [
       "[('vincent_van_gogh', 'paul_gauguin', 0.3660275351232455)]"
      ]
     },
     "execution_count": 8,
     "metadata": {},
     "output_type": "execute_result"
    }
   ],
   "source": [
    "model.distance('vincent_van_gogh', 'paul_gauguin')"
   ]
  },
  {
   "cell_type": "code",
   "execution_count": 9,
   "metadata": {},
   "outputs": [],
   "source": [
    "indices, metrics = model.similar('pablo_picasso')"
   ]
  },
  {
   "cell_type": "code",
   "execution_count": 11,
   "metadata": {},
   "outputs": [
    {
     "data": {
      "text/plain": [
       "[('andré_dunoyer_de_segonzac', 0.8282958171039598),\n",
       " ('maurice_utrillo', 0.823121615560701),\n",
       " ('john_sloan', 0.8132106616222912),\n",
       " ('georges-pierre_seurat', 0.8120651508550676),\n",
       " ('georges_rouault', 0.810263599972698),\n",
       " ('pavel_tchelitchew', 0.8096230107143044),\n",
       " ('albert_pinkham_ryder', 0.8052758283685052),\n",
       " ('eugene_speicher', 0.8035938216634877),\n",
       " ('max_weber', 0.8002429580510928),\n",
       " ('maurice_sterne', 0.7946106365961996)]"
      ]
     },
     "execution_count": 11,
     "metadata": {},
     "output_type": "execute_result"
    }
   ],
   "source": [
    "model.generate_response(indices, metrics).tolist()"
   ]
  },
  {
   "cell_type": "code",
   "execution_count": 12,
   "metadata": {},
   "outputs": [],
   "source": [
    "clusters = word2vec.load_clusters('../word2vec_output_clusters.txt')"
   ]
  },
  {
   "cell_type": "code",
   "execution_count": 13,
   "metadata": {},
   "outputs": [
    {
     "data": {
      "text/plain": [
       "array('</s>', dtype='<U4')"
      ]
     },
     "execution_count": 13,
     "metadata": {},
     "output_type": "execute_result"
    }
   ],
   "source": [
    "clusters.vocab"
   ]
  },
  {
   "cell_type": "code",
   "execution_count": null,
   "metadata": {},
   "outputs": [],
   "source": []
  }
 ],
 "metadata": {
  "kernelspec": {
   "display_name": "Python 3",
   "language": "python",
   "name": "python3"
  },
  "language_info": {
   "codemirror_mode": {
    "name": "ipython",
    "version": 3
   },
   "file_extension": ".py",
   "mimetype": "text/x-python",
   "name": "python",
   "nbconvert_exporter": "python",
   "pygments_lexer": "ipython3",
   "version": "3.7.3"
  }
 },
 "nbformat": 4,
 "nbformat_minor": 2
}
