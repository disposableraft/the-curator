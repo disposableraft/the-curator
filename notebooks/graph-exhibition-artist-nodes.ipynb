{
 "cells": [
  {
   "cell_type": "markdown",
   "metadata": {},
   "source": [
    "# Draw a graph of exhibitions and artists"
   ]
  },
  {
   "cell_type": "code",
   "execution_count": 9,
   "metadata": {
    "scrolled": true
   },
   "outputs": [],
   "source": [
    "import sys\n",
    "sys.path.append('../bin')\n",
    "\n",
    "import constants\n",
    "from pygraphviz import AGraph\n",
    "import utils\n",
    "\n",
    "data = utils.load_graph()\n",
    "G4 = AGraph()\n",
    "\n",
    "nodes_of_type = data.get_nodes()\n",
    "\n",
    "for _token, node in nodes_of_type['Exhibition'].items():\n",
    "    G4.add_node(node.id, shape='point', color='black')\n",
    "    for m in node.edges:\n",
    "        if data[m].degrees == 2:\n",
    "            G4.add_node(m, shape='point', color='red')\n",
    "            G4.add_edge(node.id, m, color=\"#CCCCCC\", alpha=0.1)\n",
    "    if len(G4.edges(node.id)) < 1:\n",
    "        G4.remove_node(node.id)\n",
    "\n",
    "G4.layout()\n",
    "image = constants.PROJECT_DATA_IMAGES.joinpath('raw-exhibition-data.png')\n",
    "G4.draw(str(image))"
   ]
  },
  {
   "cell_type": "code",
   "execution_count": null,
   "metadata": {},
   "outputs": [],
   "source": []
  }
 ],
 "metadata": {
  "kernelspec": {
   "display_name": "Python 3",
   "language": "python",
   "name": "python3"
  },
  "language_info": {
   "codemirror_mode": {
    "name": "ipython",
    "version": 3
   },
   "file_extension": ".py",
   "mimetype": "text/x-python",
   "name": "python",
   "nbconvert_exporter": "python",
   "pygments_lexer": "ipython3",
   "version": "3.7.6"
  }
 },
 "nbformat": 4,
 "nbformat_minor": 4
}
