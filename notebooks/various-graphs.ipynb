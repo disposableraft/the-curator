{
 "cells": [
  {
   "cell_type": "code",
   "execution_count": 3,
   "metadata": {},
   "outputs": [],
   "source": [
    "from pygraphviz import *\n",
    "\n"
   ]
  },
  {
   "cell_type": "code",
   "execution_count": 17,
   "metadata": {},
   "outputs": [],
   "source": [
    "G=AGraph(directed=True)\n",
    "G.add_node('exh', label='01', shape='circle')\n",
    "\n",
    "G.add_node('c', label='Paul Cézanne', shape='plaintext')\n",
    "G.add_node('g', label='Paul Gauguin', shape='plaintext')\n",
    "G.add_node('vg', label='Vincent van Gogh', shape='plaintext')\n",
    "G.add_node('s', label='Georges-Pierre Seurat', shape='plaintext')\n",
    "\n",
    "\n",
    "G.add_edge('exh','c')\n",
    "G.add_edge('exh','g')\n",
    "G.add_edge('exh','vg')\n",
    "G.add_edge('exh','s')\n",
    "\n",
    "G.layout()\n",
    "G.draw('./moma-exh-1.png')"
   ]
  },
  {
   "cell_type": "code",
   "execution_count": 31,
   "metadata": {
    "scrolled": true
   },
   "outputs": [],
   "source": [
    "G2 = AGraph()\n",
    "\n",
    "G2.add_node('question', shape='point', color='red')\n",
    "G2.add_node('the', shape='point', color='red')\n",
    "G2.add_node('is', shape='point', color='red')\n",
    "G2.add_node('that', shape='point', color='red')\n",
    "G2.add_node('be', shape='point', color='red')\n",
    "\n",
    "G2.add_edge('question', 'the')\n",
    "G2.add_edge('question', 'is')\n",
    "G2.add_edge('question', 'that')\n",
    "G2.add_edge('question', 'be')\n",
    "\n",
    "G2.add_edge('the', 'is')\n",
    "G2.add_edge('the', 'that')\n",
    "G2.add_edge('the', 'be')\n",
    "\n",
    "G2.add_edge('is', 'that')\n",
    "G2.add_edge('is', 'be')\n",
    "\n",
    "G2.add_edge('that', 'be')\n",
    "\n",
    "G2.layout()\n",
    "\n",
    "G2.draw('./k5-to-be-or-not.png')"
   ]
  },
  {
   "cell_type": "code",
   "execution_count": 42,
   "metadata": {},
   "outputs": [],
   "source": [
    "G3=AGraph(directed=True, overlap=False, concentrate=True )\n",
    "G3.add_node(723, shape='circle')\n",
    "\n",
    "G3.add_node(1, label='Ken Heyman')\n",
    "G3.add_node(2, label='George Krause')\n",
    "G3.add_node(3, label='Jerome Liebling')\n",
    "G3.add_node(4, label='Minor White')\n",
    "G3.add_node(5, label='Garry Winogrand')\n",
    "\n",
    "\n",
    "G3.add_edge(723,1)\n",
    "G3.add_edge(723,2)\n",
    "G3.add_edge(723,3)\n",
    "G3.add_edge(723,4)\n",
    "G3.add_edge(723,5)\n",
    "\n",
    "G3.layout()\n",
    "G3.draw('./moma-exh-723.png')"
   ]
  },
  {
   "cell_type": "code",
   "execution_count": 47,
   "metadata": {
    "scrolled": false
   },
   "outputs": [
    {
     "name": "stdout",
     "output_type": "stream",
     "text": [
      "combos [(0, 1), (0, 2), (1, 2)]\n",
      "perms [(0, 1), (0, 2), (1, 0), (1, 2), (2, 0), (2, 1)]\n"
     ]
    }
   ],
   "source": [
    "from itertools import permutations, combinations\n",
    "\n",
    "combos = combinations(range(3), 2)\n",
    "\n",
    "perms = permutations(range(3),2)\n",
    "\n",
    "print(f'combos {[x for x in combos]}')\n",
    "print(f'perms {[x for x in perms]}')"
   ]
  },
  {
   "cell_type": "code",
   "execution_count": 48,
   "metadata": {
    "scrolled": false
   },
   "outputs": [
    {
     "name": "stdout",
     "output_type": "stream",
     "text": [
      "Help on class combinations in module itertools:\n",
      "\n",
      "class combinations(builtins.object)\n",
      " |  combinations(iterable, r) --> combinations object\n",
      " |  \n",
      " |  Return successive r-length combinations of elements in the iterable.\n",
      " |  \n",
      " |  combinations(range(4), 3) --> (0,1,2), (0,1,3), (0,2,3), (1,2,3)\n",
      " |  \n",
      " |  Methods defined here:\n",
      " |  \n",
      " |  __getattribute__(self, name, /)\n",
      " |      Return getattr(self, name).\n",
      " |  \n",
      " |  __iter__(self, /)\n",
      " |      Implement iter(self).\n",
      " |  \n",
      " |  __next__(self, /)\n",
      " |      Implement next(self).\n",
      " |  \n",
      " |  __reduce__(...)\n",
      " |      Return state information for pickling.\n",
      " |  \n",
      " |  __setstate__(...)\n",
      " |      Set state information for unpickling.\n",
      " |  \n",
      " |  __sizeof__(...)\n",
      " |      Returns size in memory, in bytes.\n",
      " |  \n",
      " |  ----------------------------------------------------------------------\n",
      " |  Static methods defined here:\n",
      " |  \n",
      " |  __new__(*args, **kwargs) from builtins.type\n",
      " |      Create and return a new object.  See help(type) for accurate signature.\n",
      "\n"
     ]
    }
   ],
   "source": [
    "help(combinations)"
   ]
  },
  {
   "cell_type": "code",
   "execution_count": null,
   "metadata": {},
   "outputs": [],
   "source": []
  }
 ],
 "metadata": {
  "kernelspec": {
   "display_name": "Python 3",
   "language": "python",
   "name": "python3"
  },
  "language_info": {
   "codemirror_mode": {
    "name": "ipython",
    "version": 3
   },
   "file_extension": ".py",
   "mimetype": "text/x-python",
   "name": "python",
   "nbconvert_exporter": "python",
   "pygments_lexer": "ipython3",
   "version": "3.7.6"
  }
 },
 "nbformat": 4,
 "nbformat_minor": 4
}