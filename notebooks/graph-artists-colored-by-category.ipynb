{
 "cells": [
  {
   "cell_type": "markdown",
   "metadata": {},
   "source": [
    "Draw a graph of exhibitions where labeled artists are colored by category"
   ]
  },
  {
   "cell_type": "code",
   "execution_count": 1,
   "metadata": {},
   "outputs": [],
   "source": [
    "import sys\n",
    "sys.path.append('../bin')\n",
    "\n",
    "import utils\n",
    "\n",
    "import matplotlib.pyplot as plt\n",
    "import matplotlib.cm as cm\n",
    "import matplotlib.colors as mplcolors\n",
    "import numpy as np\n",
    "from pygraphviz import AGraph\n"
   ]
  },
  {
   "cell_type": "code",
   "execution_count": 2,
   "metadata": {},
   "outputs": [],
   "source": [
    "config = {'version_dir': '../data/versions/1.9'}\n",
    "\n",
    "data = utils.load_graph('labeled-import.pickle', config)"
   ]
  },
  {
   "cell_type": "code",
   "execution_count": 3,
   "metadata": {},
   "outputs": [
    {
     "data": {
      "text/plain": [
       "4"
      ]
     },
     "execution_count": 3,
     "metadata": {},
     "output_type": "execute_result"
    }
   ],
   "source": [
    "data[2557].degrees"
   ]
  },
  {
   "cell_type": "code",
   "execution_count": 20,
   "metadata": {},
   "outputs": [],
   "source": [
    "G = AGraph(directed=False)\n",
    "# G.graph_attr['overlap']='scale'\n",
    "# G.graph_attr['K']=0.75\n",
    "\n",
    "nodes_by_type = data.get_nodes()\n",
    "\n",
    "categories = [x.id for x in nodes_by_type['Category'].values()]\n",
    "exhibitions = nodes_by_type['Exhibition'].values()\n",
    "labeled_artists = utils.get_labeled_nodes(set(x for x in nodes_by_type['Category'].values()))\n",
    "\n",
    "colors = cm.rainbow(np.linspace(0, 1, len(categories)))\n",
    "\n",
    "for exhibition in exhibitions:\n",
    "    if exhibition.degrees >= 10 and exhibition.degrees < 20:\n",
    "        for m in exhibition.edges:\n",
    "            if m in labeled_artists:\n",
    "                color_index = categories.index(list(data[m].categories)[0])\n",
    "                G.add_node(\n",
    "                    m,\n",
    "                    shape=\"point\",\n",
    "                    color=mplcolors.to_hex(colors[color_index])\n",
    "                )\n",
    "                G.add_node(exhibition.id, shape=\"point\")\n",
    "                G.add_edge(exhibition.id, m, color=\"lightgray\", alpha=0.2)\n",
    "\n",
    "G.layout(prog=\"neato\")\n",
    "G.draw('test.png')"
   ]
  },
  {
   "cell_type": "code",
   "execution_count": 7,
   "metadata": {
    "scrolled": false
   },
   "outputs": [
    {
     "name": "stdout",
     "output_type": "stream",
     "text": [
      "Help on method add_edge in module pygraphviz.agraph:\n",
      "\n",
      "add_edge(u, v=None, key=None, **attr) method of pygraphviz.agraph.AGraph instance\n",
      "    Add a single edge between nodes u and v.\n",
      "    \n",
      "    If the nodes u and v are not in the graph they will added.\n",
      "    \n",
      "    If u and v are not strings, conversion to a string will be attempted.\n",
      "    String conversion will work if u and v have valid string representation\n",
      "    (try str(u) if you are unsure).\n",
      "    \n",
      "    >>> G=AGraph()\n",
      "    >>> G.add_edge('a','b')\n",
      "    >>> G.edges()  # doctest: +IGNORE_UNICODE\n",
      "    [(u'a', u'b')]\n",
      "    \n",
      "    The optional key argument allows assignment of a key to the\n",
      "    edge.  This is especially useful to distinguish between\n",
      "    parallel edges in multi-edge graphs (strict=False).\n",
      "    \n",
      "    >>> G=AGraph(strict=False)\n",
      "    >>> G.add_edge('a','b','first')\n",
      "    >>> G.add_edge('a','b','second')\n",
      "    >>> sorted(G.edges(keys=True))  # doctest: +IGNORE_UNICODE\n",
      "    [(u'a', u'b', u'first'), (u'a', u'b', u'second')]\n",
      "    \n",
      "    Attributes can be added when edges are created or updated after creation\n",
      "    \n",
      "    >>> G.add_edge('a','b',color='green')\n",
      "    \n",
      "    Attributes must be valid strings.\n",
      "    \n",
      "    See http://www.graphviz.org/doc/info/attrs.html\n",
      "    for a list of attributes.\n",
      "\n"
     ]
    }
   ],
   "source": [
    "help(G.add_edge)"
   ]
  },
  {
   "cell_type": "code",
   "execution_count": null,
   "metadata": {},
   "outputs": [],
   "source": []
  }
 ],
 "metadata": {
  "kernelspec": {
   "display_name": "Python 3",
   "language": "python",
   "name": "python3"
  },
  "language_info": {
   "codemirror_mode": {
    "name": "ipython",
    "version": 3
   },
   "file_extension": ".py",
   "mimetype": "text/x-python",
   "name": "python",
   "nbconvert_exporter": "python",
   "pygments_lexer": "ipython3",
   "version": "3.7.6"
  }
 },
 "nbformat": 4,
 "nbformat_minor": 4
}
