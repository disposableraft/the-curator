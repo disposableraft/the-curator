{
 "cells": [
  {
   "cell_type": "markdown",
   "metadata": {},
   "source": []
  },
  {
   "cell_type": "code",
   "execution_count": null,
   "metadata": {},
   "outputs": [],
   "source": []
  },
  {
   "cell_type": "code",
   "execution_count": 1,
   "metadata": {},
   "outputs": [
    {
     "name": "stdout",
     "output_type": "stream",
     "text": [
      "Paul Cézanne\n",
      "Paul Gauguin\n",
      "Vincent van Gogh\n",
      "Georges-Pierre Seurat\n"
     ]
    },
    {
     "data": {
      "text/html": [
       "<div>\n",
       "<style scoped>\n",
       "    .dataframe tbody tr th:only-of-type {\n",
       "        vertical-align: middle;\n",
       "    }\n",
       "\n",
       "    .dataframe tbody tr th {\n",
       "        vertical-align: top;\n",
       "    }\n",
       "\n",
       "    .dataframe thead th {\n",
       "        text-align: right;\n",
       "    }\n",
       "</style>\n",
       "<table border=\"1\" class=\"dataframe\">\n",
       "  <thead>\n",
       "    <tr style=\"text-align: right;\">\n",
       "      <th></th>\n",
       "      <th>ConstituentID</th>\n",
       "      <th>WikidataID</th>\n",
       "      <th>DisplayName</th>\n",
       "      <th>ExhibitionNumber</th>\n",
       "      <th>ExhibitionTitle</th>\n",
       "    </tr>\n",
       "  </thead>\n",
       "  <tbody>\n",
       "    <tr>\n",
       "      <th>1</th>\n",
       "      <td>1053.0</td>\n",
       "      <td>Q35548</td>\n",
       "      <td>Paul Cézanne</td>\n",
       "      <td>1</td>\n",
       "      <td>Cézanne, Gauguin, Seurat, Van Gogh</td>\n",
       "    </tr>\n",
       "    <tr>\n",
       "      <th>2</th>\n",
       "      <td>2098.0</td>\n",
       "      <td>Q37693</td>\n",
       "      <td>Paul Gauguin</td>\n",
       "      <td>1</td>\n",
       "      <td>Cézanne, Gauguin, Seurat, Van Gogh</td>\n",
       "    </tr>\n",
       "    <tr>\n",
       "      <th>3</th>\n",
       "      <td>2206.0</td>\n",
       "      <td>Q5582</td>\n",
       "      <td>Vincent van Gogh</td>\n",
       "      <td>1</td>\n",
       "      <td>Cézanne, Gauguin, Seurat, Van Gogh</td>\n",
       "    </tr>\n",
       "    <tr>\n",
       "      <th>4</th>\n",
       "      <td>5358.0</td>\n",
       "      <td>Q34013</td>\n",
       "      <td>Georges-Pierre Seurat</td>\n",
       "      <td>1</td>\n",
       "      <td>Cézanne, Gauguin, Seurat, Van Gogh</td>\n",
       "    </tr>\n",
       "  </tbody>\n",
       "</table>\n",
       "</div>"
      ],
      "text/plain": [
       "   ConstituentID WikidataID            DisplayName ExhibitionNumber  \\\n",
       "1         1053.0     Q35548           Paul Cézanne                1   \n",
       "2         2098.0     Q37693           Paul Gauguin                1   \n",
       "3         2206.0      Q5582       Vincent van Gogh                1   \n",
       "4         5358.0     Q34013  Georges-Pierre Seurat                1   \n",
       "\n",
       "                      ExhibitionTitle  \n",
       "1  Cézanne, Gauguin, Seurat, Van Gogh  \n",
       "2  Cézanne, Gauguin, Seurat, Van Gogh  \n",
       "3  Cézanne, Gauguin, Seurat, Van Gogh  \n",
       "4  Cézanne, Gauguin, Seurat, Van Gogh  "
      ]
     },
     "execution_count": 1,
     "metadata": {},
     "output_type": "execute_result"
    }
   ],
   "source": [
    "import pandas as pd\n",
    "\n",
    "\n",
    "# get one exhibition with N artists\n",
    "\n",
    "csv_path = \"~/data1/moma/exhibitions/MoMAExhibitions1929to1989.csv\"\n",
    "data = pd.read_csv(csv_path, encoding=\"ISO-8859-1\")\n",
    "\n",
    "e = data.loc[data[\"ExhibitionNumber\"] == str(1)]\n",
    "\n",
    "\n",
    "artists = e.loc[e[\"ExhibitionRole\"] == \"Artist\"]\n",
    "\n",
    "rows = artists[['ConstituentID', 'WikidataID', 'DisplayName', 'ExhibitionNumber', 'ExhibitionTitle']]\n",
    "\n",
    "obj = {}\n",
    "\n",
    "for a, b in rows.iterrows():\n",
    "    print(b['DisplayName'])\n",
    "    \n",
    "rows\n"
   ]
  },
  {
   "cell_type": "code",
   "execution_count": 74,
   "metadata": {},
   "outputs": [
    {
     "ename": "TypeError",
     "evalue": "'method' object is not subscriptable",
     "output_type": "error",
     "traceback": [
      "\u001b[0;31m---------------------------------------------------------------------------\u001b[0m",
      "\u001b[0;31mTypeError\u001b[0m                                 Traceback (most recent call last)",
      "\u001b[0;32m<ipython-input-74-9c4041f9fd4b>\u001b[0m in \u001b[0;36m<module>\u001b[0;34m\u001b[0m\n\u001b[0;32m----> 1\u001b[0;31m \u001b[0me\u001b[0m\u001b[0;34m.\u001b[0m\u001b[0mget\u001b[0m\u001b[0;34m[\u001b[0m\u001b[0;34m'ExhibitionID'\u001b[0m\u001b[0;34m]\u001b[0m\u001b[0;34m\u001b[0m\u001b[0;34m\u001b[0m\u001b[0m\n\u001b[0m",
      "\u001b[0;31mTypeError\u001b[0m: 'method' object is not subscriptable"
     ]
    }
   ],
   "source": [
    "e.get"
   ]
  },
  {
   "cell_type": "code",
   "execution_count": null,
   "metadata": {},
   "outputs": [],
   "source": []
  }
 ],
 "metadata": {
  "kernelspec": {
   "display_name": "Python 3",
   "language": "python",
   "name": "python3"
  },
  "language_info": {
   "codemirror_mode": {
    "name": "ipython",
    "version": 3
   },
   "file_extension": ".py",
   "mimetype": "text/x-python",
   "name": "python",
   "nbconvert_exporter": "python",
   "pygments_lexer": "ipython3",
   "version": "3.7.6"
  }
 },
 "nbformat": 4,
 "nbformat_minor": 4
}
