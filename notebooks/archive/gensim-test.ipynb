{
 "cells": [
  {
   "cell_type": "code",
   "execution_count": 2,
   "metadata": {},
   "outputs": [],
   "source": [
    "import gensim\n",
    "model = gensim.models.Word2Vec.load('../data/models/moma-combos.model')"
   ]
  },
  {
   "cell_type": "markdown",
   "metadata": {},
   "source": [
    "One of the big problems with this model is that the name tokens are truncated and they include diacriticals. These make mapping out categories to model output difficult."
   ]
  },
  {
   "cell_type": "code",
   "execution_count": 29,
   "metadata": {},
   "outputs": [],
   "source": [
    "def write_vocab_names_file():\n",
    "    vocab_names = [name for name in list(model.wv.vocab)]\n",
    "    vocab_names.sort()\n",
    "\n",
    "    with open('../data/model-wv-vocab.txt', mode='w', encoding='utf-8') as file:\n",
    "        for name in vocab_names:\n",
    "            file.write(f'{name}\\n')\n",
    "\n",
    "write_vocab_names_file()"
   ]
  },
  {
   "cell_type": "code",
   "execution_count": 38,
   "metadata": {},
   "outputs": [
    {
     "data": {
      "text/plain": [
       "True"
      ]
     },
     "execution_count": 38,
     "metadata": {},
     "output_type": "execute_result"
    }
   ],
   "source": [
    "vocabulary = list(model.wv.vocab)\n",
    "\n",
    "'helenfrankenthal' in vocabulary"
   ]
  },
  {
   "cell_type": "code",
   "execution_count": 39,
   "metadata": {
    "scrolled": false
   },
   "outputs": [
    {
     "data": {
      "text/plain": [
       "[('carlandr', 0.5939756631851196),\n",
       " ('louisnevelson', 0.5884495377540588),\n",
       " ('claeoldenburg', 0.5837007761001587),\n",
       " ('robertmotherwel', 0.576038658618927),\n",
       " ('joanmitchel', 0.5745494961738586),\n",
       " ('allanarcangelo', 0.5654481649398804),\n",
       " ('robertmorri', 0.56092369556427),\n",
       " ('larririver', 0.5466651916503906),\n",
       " ('willemkoon', 0.546484112739563),\n",
       " ('robertrauschenberg', 0.5283990502357483)]"
      ]
     },
     "execution_count": 39,
     "metadata": {},
     "output_type": "execute_result"
    }
   ],
   "source": [
    "model.wv.most_similar('helenfrankenthal', topn=10)"
   ]
  },
  {
   "cell_type": "markdown",
   "metadata": {},
   "source": [
    "The similarities to `franzkline` are promising. Out of ten, the following 5 appear in the categories file.\n",
    "\n",
    "```python\n",
    "['willemkoon',\n",
    " 'arshilgorki',\n",
    " 'reinhardt',\n",
    " 'helenfrankenthal',\n",
    " 'robertmotherwel',\n",
    "]\n",
    " ```\n",
    " \n",
    "- `franzkline`: 5/10\n",
    "- `louisbourgeoi`: 3/10\n",
    "- 'willemkoon': 4/10\n",
    "- `helenfrankenthal`: 4/10"
   ]
  }
 ],
 "metadata": {
  "kernelspec": {
   "display_name": "Python 3",
   "language": "python",
   "name": "python3"
  },
  "language_info": {
   "codemirror_mode": {
    "name": "ipython",
    "version": 3
   },
   "file_extension": ".py",
   "mimetype": "text/x-python",
   "name": "python",
   "nbconvert_exporter": "python",
   "pygments_lexer": "ipython3",
   "version": "3.7.6"
  }
 },
 "nbformat": 4,
 "nbformat_minor": 4
}
