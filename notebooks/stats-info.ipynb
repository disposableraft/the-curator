{
 "cells": [
  {
   "cell_type": "markdown",
   "metadata": {},
   "source": [
    "# Basic Descriptions of the Data"
   ]
  },
  {
   "cell_type": "code",
   "execution_count": 1,
   "metadata": {},
   "outputs": [],
   "source": [
    "import sys\n",
    "sys.path.append('../bin')\n",
    "\n",
    "import utils\n",
    "\n",
    "graph = utils.load_graph()\n",
    "types = graph.get_nodes()\n",
    "categories = types['Category']\n",
    "exhibitions = types['Exhibition']\n",
    "artists = types['Artist']"
   ]
  },
  {
   "cell_type": "markdown",
   "metadata": {},
   "source": [
    "### Total number of  vertices and edges:"
   ]
  },
  {
   "cell_type": "code",
   "execution_count": 2,
   "metadata": {},
   "outputs": [
    {
     "name": "stdout",
     "output_type": "stream",
     "text": [
      "verices: 5904 edges: 27256\n"
     ]
    }
   ],
   "source": [
    "print(f'verices: {graph.count_nodes()} edges: {graph.count_edges()}')"
   ]
  },
  {
   "cell_type": "markdown",
   "metadata": {},
   "source": [
    "### Density\n",
    "\n",
    "Density takes into account vertex types Exhibition, Artist and Category. It doesn't take into account artist-to-artist similarity. Exhibition and Category both link to Artist, but not to each other, resulting in a sparse graph."
   ]
  },
  {
   "cell_type": "code",
   "execution_count": 3,
   "metadata": {},
   "outputs": [
    {
     "data": {
      "text/plain": [
       "0.0015641304981574295"
      ]
     },
     "execution_count": 3,
     "metadata": {},
     "output_type": "execute_result"
    }
   ],
   "source": [
    "graph.density()"
   ]
  },
  {
   "cell_type": "markdown",
   "metadata": {},
   "source": [
    "### Number of movements, exhibitions and artists"
   ]
  },
  {
   "cell_type": "code",
   "execution_count": 4,
   "metadata": {},
   "outputs": [
    {
     "name": "stdout",
     "output_type": "stream",
     "text": [
      "categories: 111 exhibitions: 756 artists: 5037\n"
     ]
    }
   ],
   "source": [
    "print(f'categories: {len(categories)} exhibitions: {len(exhibitions)} artists: {len(artists)}')\n"
   ]
  },
  {
   "cell_type": "markdown",
   "metadata": {},
   "source": [
    "### Distribution of degrees in node type Artist"
   ]
  },
  {
   "cell_type": "code",
   "execution_count": 5,
   "metadata": {
    "scrolled": false
   },
   "outputs": [
    {
     "data": {
      "image/png": "[encoded data removed]",
      "text/plain": [
       "<Figure size 432x288 with 1 Axes>"
      ]
     },
     "metadata": {
      "needs_background": "light"
     },
     "output_type": "display_data"
    },
    {
     "data": {
      "image/png": "[encoded data removed]",
      "text/plain": [
       "<Figure size 432x288 with 1 Axes>"
      ]
     },
     "metadata": {
      "needs_background": "light"
     },
     "output_type": "display_data"
    }
   ],
   "source": [
    "import matplotlib.pyplot as plt\n",
    "\n",
    "X1 = [a.degrees for a in artists.values()]\n",
    "X2 = [a.degrees for a in artists.values() if a.degrees > 20]\n",
    "\n",
    "plt.title(f'artist degrees > 0: {len(X1)}')\n",
    "plt.hist(X1, cumulative=True)\n",
    "plt.show()\n",
    "\n",
    "plt.title(f'artist degrees > 20: {len(X2)}')\n",
    "plt.hist(X2, cumulative=True)\n",
    "plt.show()"
   ]
  },
  {
   "cell_type": "markdown",
   "metadata": {},
   "source": [
    "### Distribution of degrees in node type Exhibition"
   ]
  },
  {
   "cell_type": "code",
   "execution_count": 6,
   "metadata": {
    "scrolled": true
   },
   "outputs": [
    {
     "data": {
      "image/png": "[encoded data removed]",
      "text/plain": [
       "<Figure size 432x288 with 1 Axes>"
      ]
     },
     "metadata": {
      "needs_background": "light"
     },
     "output_type": "display_data"
    }
   ],
   "source": [
    "X3 = [x.degrees for x in exhibitions.values()]\n",
    "\n",
    "plt.title(f'exhibition degrees: {len(X3)}')\n",
    "plt.hist(X3)\n",
    "plt.show()"
   ]
  },
  {
   "cell_type": "markdown",
   "metadata": {},
   "source": [
    "### Distribution of degrees in node type Category"
   ]
  },
  {
   "cell_type": "code",
   "execution_count": 7,
   "metadata": {
    "scrolled": true
   },
   "outputs": [
    {
     "data": {
      "image/png": "[encoded data removed]",
      "text/plain": [
       "<Figure size 432x288 with 1 Axes>"
      ]
     },
     "metadata": {
      "needs_background": "light"
     },
     "output_type": "display_data"
    }
   ],
   "source": [
    "X3 = [x.degrees for x in categories.values()]\n",
    "\n",
    "plt.title(f'categories degrees: {len(X3)}')\n",
    "plt.hist(X3)\n",
    "plt.show()"
   ]
  },
  {
   "cell_type": "markdown",
   "metadata": {},
   "source": [
    "### Number of edges between artists\n",
    "\n",
    "This should be 10 x artists"
   ]
  },
  {
   "cell_type": "code",
   "execution_count": 8,
   "metadata": {},
   "outputs": [
    {
     "data": {
      "text/plain": [
       "48760"
      ]
     },
     "execution_count": 8,
     "metadata": {},
     "output_type": "execute_result"
    }
   ],
   "source": [
    "similars = []\n",
    "for a in artists.values():\n",
    "    for t, _x in a.similar:\n",
    "        similars.append(t)\n",
    "len(similars)"
   ]
  },
  {
   "cell_type": "code",
   "execution_count": 9,
   "metadata": {},
   "outputs": [
    {
     "data": {
      "text/plain": [
       "9.680365296803654"
      ]
     },
     "execution_count": 9,
     "metadata": {},
     "output_type": "execute_result"
    }
   ],
   "source": [
    "# This could be drilled into a bit. Who is missing edges?\n",
    "len(similars)/ len(artists)"
   ]
  },
  {
   "cell_type": "markdown",
   "metadata": {},
   "source": [
    "### Labeled and unlabeled Artists\n",
    "\n",
    "Labels were added for artists having `degrees > 2`."
   ]
  },
  {
   "cell_type": "code",
   "execution_count": 10,
   "metadata": {
    "scrolled": true
   },
   "outputs": [
    {
     "name": "stdout",
     "output_type": "stream",
     "text": [
      "Unlabeled: 597\n",
      "Labeled: 415\n",
      "Percent of labeled artists (with degrees > 2) 0.41007905138339923\n"
     ]
    }
   ],
   "source": [
    "labeled_artists = set()\n",
    "\n",
    "for c in categories.values():\n",
    "    for m in c.edges:\n",
    "        labeled_artists.add(m)\n",
    "\n",
    "artists_degree_gt_1 = set([a.id for a in artists.values() if a.degrees > 2])\n",
    "\n",
    "unlabeled_artists = artists_degree_gt_1 ^ labeled_artists\n",
    "\n",
    "print(f'Unlabeled: {len(unlabeled_artists)}')\n",
    "print(f'Labeled: {len(labeled_artists)}')\n",
    "\n",
    "print(f'Percent of labeled artists (with degrees > 2) {len(labeled_artists) / (len(unlabeled_artists) + len(labeled_artists))}')"
   ]
  },
  {
   "cell_type": "code",
   "execution_count": 11,
   "metadata": {},
   "outputs": [],
   "source": [
    "def find_in_type(term, collection):\n",
    "    for c in collection.values():\n",
    "        if term in c.edges:\n",
    "            print(f'{term} in {c.title}')\n"
   ]
  },
  {
   "cell_type": "code",
   "execution_count": 12,
   "metadata": {},
   "outputs": [
    {
     "data": {
      "text/plain": [
       "True"
      ]
     },
     "execution_count": 12,
     "metadata": {},
     "output_type": "execute_result"
    }
   ],
   "source": [
    "len(artists_degree_gt_1) == len(unlabeled_artists) + len(labeled_artists) "
   ]
  },
  {
   "cell_type": "code",
   "execution_count": 13,
   "metadata": {},
   "outputs": [
    {
     "data": {
      "text/plain": [
       "True"
      ]
     },
     "execution_count": 13,
     "metadata": {},
     "output_type": "execute_result"
    }
   ],
   "source": [
    "{1,2,3,4} ^ {2,4} == {2,4} ^ {1,2,3,4}"
   ]
  },
  {
   "cell_type": "code",
   "execution_count": 14,
   "metadata": {},
   "outputs": [
    {
     "data": {
      "text/plain": [
       "{1, 3}"
      ]
     },
     "execution_count": 14,
     "metadata": {},
     "output_type": "execute_result"
    }
   ],
   "source": [
    "{2,4} ^ {1,2,3,4}"
   ]
  },
  {
   "cell_type": "code",
   "execution_count": 15,
   "metadata": {},
   "outputs": [
    {
     "data": {
      "text/plain": [
       "True"
      ]
     },
     "execution_count": 15,
     "metadata": {},
     "output_type": "execute_result"
    }
   ],
   "source": [
    "{1,2,3,4}.difference({2,4}) == {1,3}"
   ]
  },
  {
   "cell_type": "code",
   "execution_count": 16,
   "metadata": {},
   "outputs": [
    {
     "data": {
      "text/plain": [
       "False"
      ]
     },
     "execution_count": 16,
     "metadata": {},
     "output_type": "execute_result"
    }
   ],
   "source": [
    "{1,2,3,4}.difference({2,4}) == {2,4}.difference({1,2,3,4})"
   ]
  },
  {
   "cell_type": "code",
   "execution_count": null,
   "metadata": {},
   "outputs": [],
   "source": []
  }
 ],
 "metadata": {
  "kernelspec": {
   "display_name": "Python 3",
   "language": "python",
   "name": "python3"
  },
  "language_info": {
   "codemirror_mode": {
    "name": "ipython",
    "version": 3
   },
   "file_extension": ".py",
   "mimetype": "text/x-python",
   "name": "python",
   "nbconvert_exporter": "python",
   "pygments_lexer": "ipython3",
   "version": "3.7.6"
  }
 },
 "nbformat": 4,
 "nbformat_minor": 4
}
