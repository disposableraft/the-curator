{
 "cells": [
  {
   "cell_type": "code",
   "execution_count": 1,
   "metadata": {},
   "outputs": [],
   "source": [
    "import sys\n",
    "sys.path.append('../bin')\n",
    "\n",
    "import json\n",
    "import matplotlib.pyplot as plt\n",
    "import constants as c"
   ]
  },
  {
   "cell_type": "code",
   "execution_count": 2,
   "metadata": {},
   "outputs": [],
   "source": [
    "reports = c.DATA.joinpath('versions').glob('**/report.json')\n",
    "\n",
    "report_data = dict()\n",
    "\n",
    "for file in reports:\n",
    "    with open(file, 'r') as f:\n",
    "        data = json.loads(f.read())\n",
    "        key = data['version']\n",
    "        report_data[key] = data"
   ]
  },
  {
   "cell_type": "markdown",
   "metadata": {},
   "source": [
    "## Error Rates Per Version\n",
    "\n",
    "The table below shows mean error rates and model parameters per version. "
   ]
  },
  {
   "cell_type": "code",
   "execution_count": 3,
   "metadata": {
    "scrolled": true
   },
   "outputs": [
    {
     "name": "stdout",
     "output_type": "stream",
     "text": [
      "version  (^) error rate   epochs  size  sg  labeled_artists\n",
      "-----------------------------------------------------------\n",
      "1.9      0.8015390856248  8       100   0   415\n",
      "1.6      0.8041929824561  5       100   0   415\n",
      "1.7      0.8051421265856  5       100   1   415\n",
      "1.5      0.806191643324   6       50    1   415\n",
      "1.8      0.8101779903035  10      100   1   415\n",
      "1.4      0.8133043981481  6       50    0   415\n",
      "1.2      0.8188968419657  3       50    1   415\n",
      "1.3      0.819286211353   3       50    0   415\n",
      "1.1      0.831078042328   1       50    0   415\n",
      "1.0      0.8343105776197  1       50    1   415\n",
      "1.10     0.8458323245597  1       10    0   415\n"
     ]
    }
   ],
   "source": [
    "table = []\n",
    "headers = [\n",
    "    'version',\n",
    "    '(^) error rate',\n",
    "    'epochs',\n",
    "    'size',\n",
    "    'sg',\n",
    "    'labeled_artists'\n",
    "]\n",
    "for version, report in report_data.items():\n",
    "    row = [\n",
    "        version,\n",
    "        report['results']['error_rates']['all']['mean'],\n",
    "        report['model']['epochs'],\n",
    "        report['model']['size'],\n",
    "        report['model']['sg'],\n",
    "        report['graph']['labeled_artists']\n",
    "    ]\n",
    "    table.append(row)\n",
    "\n",
    "sorted_table = sorted(table, key=lambda row: row[1])\n",
    "    \n",
    "print(f'{headers[0]:<9s}{headers[1]:<17s}{headers[2]:<8s}{headers[3]:<6s}{headers[4]:<4s}{headers[5]}')\n",
    "print('-----------------------------------------------------------')\n",
    "\n",
    "for index, row in enumerate(sorted_table):\n",
    "    print(f'{row[0]:<9}{round(row[1], 13):<17}{row[2]:<8}{row[3]:<6}{row[4]:<4}{row[5]}')"
   ]
  },
  {
   "cell_type": "code",
   "execution_count": null,
   "metadata": {},
   "outputs": [],
   "source": []
  }
 ],
 "metadata": {
  "kernelspec": {
   "display_name": "Python 3",
   "language": "python",
   "name": "python3"
  },
  "language_info": {
   "codemirror_mode": {
    "name": "ipython",
    "version": 3
   },
   "file_extension": ".py",
   "mimetype": "text/x-python",
   "name": "python",
   "nbconvert_exporter": "python",
   "pygments_lexer": "ipython3",
   "version": "3.7.6"
  }
 },
 "nbformat": 4,
 "nbformat_minor": 4
}
