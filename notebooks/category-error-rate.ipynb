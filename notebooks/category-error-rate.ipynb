{
 "cells": [
  {
   "cell_type": "markdown",
   "metadata": {},
   "source": [
    "What is the error rate of the model for predicting a category?\n"
   ]
  },
  {
   "cell_type": "code",
   "execution_count": 1,
   "metadata": {},
   "outputs": [],
   "source": [
    "import sys\n",
    "sys.path.append('../bin')\n",
    "\n",
    "from pprint import pprint\n",
    "import matplotlib.pyplot as plt\n",
    "\n",
    "import utils\n",
    "import constants as c\n"
   ]
  },
  {
   "cell_type": "code",
   "execution_count": 2,
   "metadata": {
    "scrolled": false
   },
   "outputs": [],
   "source": [
    "def get_labeled_nodes(cat):\n",
    "    labeled = set()\n",
    "    for c in cat:\n",
    "        for m in c.edges:\n",
    "            labeled.add(m)\n",
    "    return labeled\n",
    "\n",
    "def mean(s):\n",
    "    return sum([x for x in s]) / len(s)\n",
    "\n",
    "def diff_sq(s):\n",
    "    return [(x - mean(s))**2 for x in s]\n",
    "\n",
    "def variance(s):\n",
    "    return sum(diff_sq(s)) / len(s)\n",
    "\n",
    "def score_category(graph, cat, all_labeled_nodes):\n",
    "    # Score is misses / (hits + misses)\n",
    "    scores = []\n",
    "    for m in cat.edges:\n",
    "        A = graph[m]\n",
    "        hits = []\n",
    "        misses = []\n",
    "        for token, score in A.similar:        \n",
    "            # Hits: token is in cat.edges\n",
    "            if token in cat.edges:\n",
    "                hits.append(score)\n",
    "            # Misses: token is labeled but not as this category\n",
    "            if token in all_labeled_nodes and token not in cat.edges:\n",
    "                misses.append(score)\n",
    "        if len(misses) + len(hits) == 0:\n",
    "            # Return 1 for a full on error\n",
    "            score = 1\n",
    "        else:\n",
    "            score = len(misses) / (len(hits) + len(misses)) \n",
    "        scores.append(score)\n",
    "    \n",
    "        \n",
    "    return {'cat': cat.id, 'mean': mean(scores), 'variance': variance(scores), 'scores': scores}\n",
    "\n",
    "def report(lines):\n",
    "    print(f'{\"Category\":<15s} {\"Mean\":>14s} {\"Variance\":>14s} {\"N\":>3s}')\n",
    "    print('---------------------------------------------------')\n",
    "    for line in lines:\n",
    "        print(f\"{line['cat']:<25s} {line['mean']:<10f} {line['variance']:<10f} {len(line['scores']):<10d}\")\n"
   ]
  },
  {
   "cell_type": "markdown",
   "metadata": {},
   "source": [
    "## Scores by category"
   ]
  },
  {
   "cell_type": "code",
   "execution_count": 3,
   "metadata": {},
   "outputs": [],
   "source": [
    "pickle = '2020713-moma-exhibitions-categories-word2vec.pickle'\n",
    "graph = utils.load_graph(c.PROJECT_DATA_PICKLES.joinpath(pickle))"
   ]
  },
  {
   "cell_type": "code",
   "execution_count": 4,
   "metadata": {
    "scrolled": true
   },
   "outputs": [
    {
     "name": "stdout",
     "output_type": "stream",
     "text": [
      "Category                  Mean       Variance   N\n",
      "---------------------------------------------------\n",
      "Post-Impressionism        0.856376   0.019417   15        \n",
      "Symbolism                 0.748181   0.088153   12        \n",
      "Pont-Aven School          1.000000   0.000000   4         \n",
      "synthetism                1.000000   0.000000   2         \n",
      "Cloisonnism               1.000000   0.000000   2         \n",
      "expressionism             0.754934   0.045945   46        \n",
      "Impressionism             0.940043   0.007377   11        \n",
      "pointillism               0.916005   0.008821   6         \n",
      "Precisionism              1.000000   0.000000   4         \n",
      "American realism          1.000000   0.000000   2         \n",
      "Cubism                    0.922222   0.008266   13        \n",
      "fauvism                   0.944444   0.024691   9         \n",
      "divisionism               1.000000   0.000000   2         \n",
      "surrealism                0.860444   0.049937   25        \n",
      "Les Nabis                 1.000000   0.000000   4         \n",
      "abstract expressionism    0.578968   0.126764   61        \n",
      "social realism            0.857143   0.051020   7         \n",
      "Realism                   1.000000   0.000000   7         \n",
      "American modernism        0.927083   0.005534   4         \n",
      "naïve art                 1.000000   0.000000   2         \n",
      "Ashcan School             0.866667   0.026667   5         \n",
      "modern art                1.000000   0.000000   3         \n",
      "De Stijl                  1.000000   0.000000   3         \n",
      "constructivism            1.000000   0.000000   7         \n",
      "futurism                  0.945988   0.007135   9         \n",
      "vorticism                 1.000000   0.000000   3         \n",
      "purism                    0.900000   0.010000   2         \n",
      "brutalist architecture    1.000000   0.000000   2         \n",
      "Art Nouveau               0.708333   0.133681   6         \n",
      "Dada                      0.868084   0.015950   14        \n",
      "Romanticism               0.583333   0.006944   2         \n",
      "Bauhaus                   1.000000   0.000000   3         \n",
      "International Style       1.000000   0.000000   2         \n",
      "metaphysical painting     0.968750   0.002930   4         \n",
      "abstract art              0.800022   0.092695   36        \n",
      "contemporary art          0.907738   0.066017   14        \n",
      "neo-impressionism         1.000000   0.000000   3         \n",
      "Rayonism                  0.625000   0.015625   2         \n",
      "Regionalism               1.000000   0.000000   4         \n",
      "modernism                 1.000000   0.000000   8         \n",
      "Photo-Secession           1.000000   0.000000   2         \n",
      "suprematism               1.000000   0.000000   2         \n",
      "Russian avant-garde       1.000000   0.000000   2         \n",
      "op art                    1.000000   0.000000   3         \n",
      "pop art                   0.652778   0.089807   30        \n",
      "feminist art              0.800000   0.133333   6         \n",
      "abject art                1.000000   0.000000   2         \n",
      "action painting           0.852857   0.011176   5         \n",
      "COBRA                     1.000000   0.000000   2         \n",
      "Informalism               0.800000   0.000000   2         \n",
      "Orphism                   1.000000   0.000000   3         \n",
      "simultanism               1.000000   0.000000   2         \n",
      "Nouveau réalisme          1.000000   0.000000   4         \n",
      "Neo-Dada                  0.950000   0.002500   2         \n",
      "minimalism                0.766610   0.028339   14        \n",
      "hard-edge painting        1.000000   0.000000   2         \n",
      "Postmodern architecture   1.000000   0.000000   5         \n",
      "conceptual art            1.000000   0.000000   5         \n",
      "Viennese Actionism        1.000000   0.000000   3         \n",
      "land art                  0.854167   0.000434   2         \n",
      "postminimalism            1.000000   0.000000   3         \n",
      "neo-expressionism         0.750000   0.062500   2         \n",
      "Arte Povera               0.700000   0.160000   5         \n",
      "kinetic art               1.000000   0.000000   2         \n",
      "Salon Cubism              0.902778   0.005015   3         \n",
      "magic realism             1.000000   0.000000   2         \n",
      "Fluxus                    0.846667   0.022044   5         \n",
      "New Objectivity           0.944444   0.003086   2         \n"
     ]
    }
   ],
   "source": [
    "nodes = graph.get_nodes()\n",
    "categories = nodes['Category'].values()\n",
    "labeled_nodes = get_labeled_nodes(categories)    \n",
    "\n",
    "scores_by_category = []\n",
    "\n",
    "for category in categories: \n",
    "    if category.degrees > 1:\n",
    "        scores_by_category.append(score_category(graph, category, labeled_nodes))\n",
    "\n",
    "report(scores_by_category)"
   ]
  },
  {
   "cell_type": "markdown",
   "metadata": {},
   "source": [
    "## All scores "
   ]
  },
  {
   "cell_type": "code",
   "execution_count": 5,
   "metadata": {
    "scrolled": false
   },
   "outputs": [
    {
     "name": "stdout",
     "output_type": "stream",
     "text": [
      "Category                  Mean       Variance   N\n",
      "---------------------------------------------------\n",
      "all                       0.828624   0.068202   492       \n"
     ]
    }
   ],
   "source": [
    "all_scores = []\n",
    "\n",
    "for category in categories: \n",
    "    if category.degrees > 1:\n",
    "        cat_score = score_category(graph, category, labeled_nodes)['scores']\n",
    "        for x in cat_score:\n",
    "            all_scores.append(x)\n",
    "\n",
    "line = {'cat': 'all', 'mean': mean(all_scores), 'variance': variance(all_scores), 'scores': all_scores}\n",
    "\n",
    "report([line])"
   ]
  },
  {
   "cell_type": "code",
   "execution_count": 6,
   "metadata": {},
   "outputs": [
    {
     "data": {
      "text/plain": [
       "(array([ 20.,  21.,  30.,  36.,  47.,  90., 113., 146., 206., 492.]),\n",
       " array([0. , 0.1, 0.2, 0.3, 0.4, 0.5, 0.6, 0.7, 0.8, 0.9, 1. ]),\n",
       " <a list of 10 Patch objects>)"
      ]
     },
     "execution_count": 6,
     "metadata": {},
     "output_type": "execute_result"
    },
    {
     "data": {
      "image/png": "[encoded data removed]",
      "text/plain": [
       "<Figure size 432x288 with 1 Axes>"
      ]
     },
     "metadata": {
      "needs_background": "light"
     },
     "output_type": "display_data"
    }
   ],
   "source": [
    "plt.hist(all_scores, cumulative=True)\n"
   ]
  },
  {
   "cell_type": "code",
   "execution_count": null,
   "metadata": {},
   "outputs": [],
   "source": []
  }
 ],
 "metadata": {
  "kernelspec": {
   "display_name": "Python 3",
   "language": "python",
   "name": "python3"
  },
  "language_info": {
   "codemirror_mode": {
    "name": "ipython",
    "version": 3
   },
   "file_extension": ".py",
   "mimetype": "text/x-python",
   "name": "python",
   "nbconvert_exporter": "python",
   "pygments_lexer": "ipython3",
   "version": "3.7.6"
  }
 },
 "nbformat": 4,
 "nbformat_minor": 4
}
