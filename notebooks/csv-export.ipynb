{
 "cells": [
  {
   "cell_type": "markdown",
   "metadata": {},
   "source": [
    "# CSV Export\n",
    "\n",
    "This notebook is for visualizing the CSV exports from source files to Django."
   ]
  },
  {
   "cell_type": "code",
   "execution_count": 1,
   "metadata": {},
   "outputs": [],
   "source": [
    "import pandas as pd"
   ]
  },
  {
   "cell_type": "code",
   "execution_count": 2,
   "metadata": {},
   "outputs": [],
   "source": [
    "cols = [\n",
    "    'ExhibitionID',\n",
    "    'ExhibitionNumber',\n",
    "    'ExhibitionTitle',\n",
    "    'ConstituentURL', \n",
    "    'FirstName',\n",
    "    'MiddleName',\n",
    "    'LastName',\n",
    "    'Suffix',\n",
    "    'ExhibitionURL',\n",
    "    'ExhibitionRole',\n",
    "    'DisplayName',\n",
    "]\n",
    "\n",
    "exh = pd.read_csv(\n",
    "    '~/data1/moma/exhibitions/MoMAExhibitions1929to1989.csv', \n",
    "    usecols=cols,\n",
    "    dtype={\n",
    "        'ExhibitionID': 'Int64',\n",
    "    },\n",
    "    converters={\n",
    "        'ExhibitionTitle': str,\n",
    "        'FirstName': str,\n",
    "        'LastName': str,\n",
    "        'MiddleName': str,\n",
    "        'Suffix': str,\n",
    "    },\n",
    "    encoding=\"iso8859-1\",\n",
    ")"
   ]
  },
  {
   "cell_type": "markdown",
   "metadata": {},
   "source": [
    "## The complete list of columns\n",
    "\n",
    "['ExhibitionID',\n",
    " 'ExhibitionNumber',\n",
    " 'ExhibitionTitle',\n",
    " 'ExhibitionCitationDate',\n",
    " 'ExhibitionBeginDate',\n",
    " 'ExhibitionEndDate',\n",
    " 'ExhibitionSortOrder',\n",
    " 'ExhibitionURL',\n",
    " 'ExhibitionRole',\n",
    " 'ExhibitionRoleinPressRelease',\n",
    " 'ConstituentID',\n",
    " 'ConstituentType',\n",
    " 'DisplayName',\n",
    " 'AlphaSort',\n",
    " 'FirstName',\n",
    " 'MiddleName',\n",
    " 'LastName',\n",
    " 'Suffix',\n",
    " 'Institution',\n",
    " 'Nationality',\n",
    " 'ConstituentBeginDate',\n",
    " 'ConstituentEndDate',\n",
    " 'ArtistBio',\n",
    " 'Gender',\n",
    " 'VIAFID',\n",
    " 'WikidataID',\n",
    " 'ULANID',\n",
    " 'ConstituentURL']\n",
    " "
   ]
  },
  {
   "cell_type": "markdown",
   "metadata": {},
   "source": [
    "## Filter for artists\n",
    "\n",
    "The CSV contains one role for each artist in a given exhibition. So let's filter for only artists."
   ]
  },
  {
   "cell_type": "code",
   "execution_count": 3,
   "metadata": {},
   "outputs": [],
   "source": [
    "artists = exh.loc[exh['ExhibitionRole'] == 'Artist']\n",
    "artists = artists.loc[artists['ExhibitionTitle'] != \"No#\"]"
   ]
  },
  {
   "cell_type": "code",
   "execution_count": null,
   "metadata": {},
   "outputs": [],
   "source": [
    "artists"
   ]
  },
  {
   "cell_type": "markdown",
   "metadata": {},
   "source": [
    "## Add a column for the Gensim token\n",
    "\n",
    "Since the Gensim tokenizer trimmed trailing 'e's and otherwise altered artist names, it would be cool to have a column for the token, so that Django can translate those names when interacting with the model."
   ]
  },
  {
   "cell_type": "code",
   "execution_count": 4,
   "metadata": {},
   "outputs": [],
   "source": [
    "from gensim.parsing.preprocessing import preprocess_string"
   ]
  },
  {
   "cell_type": "code",
   "execution_count": 5,
   "metadata": {},
   "outputs": [],
   "source": [
    "def format_name(names):\n",
    "    \"Join a name with an underscore\"\n",
    "    # process all the names at once.\n",
    "    return [\"\".join(preprocess_string(n)) for n in names]"
   ]
  },
  {
   "cell_type": "code",
   "execution_count": 6,
   "metadata": {},
   "outputs": [],
   "source": [
    "artists_tokenized = artists.assign(\n",
    "    token=lambda x: format_name(x.DisplayName)\n",
    ")"
   ]
  },
  {
   "cell_type": "code",
   "execution_count": null,
   "metadata": {},
   "outputs": [],
   "source": [
    "artists_tokenized"
   ]
  },
  {
   "cell_type": "markdown",
   "metadata": {},
   "source": [
    "## Export time!\n",
    "\n",
    "All right, now we have a mapping to the Gensim model's token. "
   ]
  },
  {
   "cell_type": "markdown",
   "metadata": {},
   "source": [
    "TODO:\n",
    "\n",
    "This is good, but there is one thing that would make it better. This script exports _all_ the exhibitions, but only some of them are included in the model. Exhibitions above a threshold were not included.\n",
    "\n",
    "```python\n",
    "for en in exh_numbers:\n",
    "        terms = Moma.exhibition_artists(en)\n",
    "        # Don't calculate and output big lists\n",
    "        if len(terms) <= 50:\n",
    "            Moma.append_to_outfile(terms)\n",
    "```\n"
   ]
  },
  {
   "cell_type": "markdown",
   "metadata": {},
   "source": [
    "This is cool, but the dataframe isn't ready yet. We need to remove exhibitions that are above or equal to 50."
   ]
  },
  {
   "cell_type": "code",
   "execution_count": 7,
   "metadata": {},
   "outputs": [],
   "source": [
    "exh_numbers = artists_tokenized.ExhibitionNumber.unique()\n",
    "\n",
    "drop_indices = []\n",
    "\n",
    "for exn in exh_numbers:\n",
    "    # Select a group of rows by ExhibitionNumber\n",
    "    e = artists_tokenized.loc[artists_tokenized[\"ExhibitionNumber\"] == str(exn)]\n",
    "    # Create a list of rows to drop\n",
    "    if len(e) >= 50:\n",
    "        for i in e.index.tolist():\n",
    "            drop_indices.append(i)\n",
    "\n",
    "# Drop the oversize exhibitions\n",
    "tokenized_filtered = artists_tokenized.drop(drop_indices)"
   ]
  },
  {
   "cell_type": "code",
   "execution_count": 8,
   "metadata": {},
   "outputs": [],
   "source": [
    "# Export the CSV\n",
    "tokenized_filtered.to_csv(\n",
    "    index=False,\n",
    "    path_or_buf='../data/artists_tokenized_filtered.csv',\n",
    ")"
   ]
  },
  {
   "cell_type": "code",
   "execution_count": null,
   "metadata": {},
   "outputs": [],
   "source": []
  }
 ],
 "metadata": {
  "kernelspec": {
   "display_name": "Python 3",
   "language": "python",
   "name": "python3"
  },
  "language_info": {
   "codemirror_mode": {
    "name": "ipython",
    "version": 3
   },
   "file_extension": ".py",
   "mimetype": "text/x-python",
   "name": "python",
   "nbconvert_exporter": "python",
   "pygments_lexer": "ipython3",
   "version": "3.7.3"
  }
 },
 "nbformat": 4,
 "nbformat_minor": 2
}
