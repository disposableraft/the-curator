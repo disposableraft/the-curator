{
 "cells": [
  {
   "cell_type": "markdown",
   "metadata": {},
   "source": [
    "# Permutations\n",
    "\n",
    "Select an exhibition of artist names. "
   ]
  },
  {
   "cell_type": "code",
   "execution_count": 18,
   "metadata": {},
   "outputs": [],
   "source": [
    "import pandas as pd\n",
    "from pathlib import Path \n",
    "from itertools import permutations\n",
    "\n",
    "exhibitions = Path('./moma/exhibitions/MoMAExhibitions1929to1989.csv')\n",
    "exhibition_data = pd.read_csv(exhibitions)"
   ]
  },
  {
   "cell_type": "code",
   "execution_count": 14,
   "metadata": {},
   "outputs": [],
   "source": [
    "exh = exhibition_data.loc[exhibition_data['ExhibitionNumber'] == '2']\n",
    "artists = exh.loc[exhibition_data['ExhibitionRole'] == 'Artist']\n",
    "curators = exh.loc[exhibition_data['ExhibitionRole'] == 'Curator']\n",
    "\n",
    "artist_names = artists['DisplayName'].tolist()\n",
    "curator_name = curators['DisplayName'].tolist()"
   ]
  },
  {
   "cell_type": "code",
   "execution_count": 40,
   "metadata": {},
   "outputs": [
    {
     "data": {
      "text/plain": [
       "['Charles Burchfield',\n",
       " 'Charles Demuth',\n",
       " 'Preston Dickinson',\n",
       " 'Lyonel Feininger',\n",
       " 'George Overbury (\"Pop\") Hart',\n",
       " 'Edward Hopper',\n",
       " 'Bernard Karfiol',\n",
       " 'Rockwell Kent',\n",
       " 'Walt Kuhn',\n",
       " 'Yasuo Kuniyoshi',\n",
       " 'Ernest Lawson',\n",
       " 'John Marin',\n",
       " 'Kenneth Hayes Miller',\n",
       " \"Georgia O'Keeffe\",\n",
       " 'Jules Pascin',\n",
       " 'John Sloan',\n",
       " 'Eugene Speicher',\n",
       " 'Maurice Sterne',\n",
       " 'Max Weber']"
      ]
     },
     "execution_count": 40,
     "metadata": {},
     "output_type": "execute_result"
    }
   ],
   "source": [
    "artist_names"
   ]
  },
  {
   "cell_type": "code",
   "execution_count": 41,
   "metadata": {},
   "outputs": [],
   "source": [
    "perms = permutations(artist_names, 5)"
   ]
  },
  {
   "cell_type": "code",
   "execution_count": 42,
   "metadata": {},
   "outputs": [],
   "source": [
    "\n",
    "with open('tmp.txt', 'a') as f:\n",
    "    for line in list(perms):\n",
    "        f.write(str(line))"
   ]
  },
  {
   "cell_type": "code",
   "execution_count": null,
   "metadata": {},
   "outputs": [],
   "source": []
  }
 ],
 "metadata": {
  "kernelspec": {
   "display_name": "Python 3",
   "language": "python",
   "name": "python3"
  },
  "language_info": {
   "codemirror_mode": {
    "name": "ipython",
    "version": 3
   },
   "file_extension": ".py",
   "mimetype": "text/x-python",
   "name": "python",
   "nbconvert_exporter": "python",
   "pygments_lexer": "ipython3",
   "version": "3.7.3"
  }
 },
 "nbformat": 4,
 "nbformat_minor": 2
}
