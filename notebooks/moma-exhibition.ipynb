{
 "cells": [
  {
   "cell_type": "code",
   "execution_count": 2,
   "metadata": {},
   "outputs": [],
   "source": [
    "import pandas as pd\n",
    "import numpy as np\n",
    "from pathlib import Path \n",
    "\n",
    "csv = Path('~/data1/moma/exhibitions/MoMAExhibitions1929to1989.csv', encoding='utf-8')\n",
    "exd = pd.read_csv(csv)"
   ]
  },
  {
   "cell_type": "code",
   "execution_count": 57,
   "metadata": {},
   "outputs": [
    {
     "data": {
      "text/plain": [
       "['ExhibitionID',\n",
       " 'ExhibitionNumber',\n",
       " 'ExhibitionTitle',\n",
       " 'ExhibitionCitationDate',\n",
       " 'ExhibitionBeginDate',\n",
       " 'ExhibitionEndDate',\n",
       " 'ExhibitionSortOrder',\n",
       " 'ExhibitionURL',\n",
       " 'ExhibitionRole',\n",
       " 'ExhibitionRoleinPressRelease',\n",
       " 'ConstituentID',\n",
       " 'ConstituentType',\n",
       " 'DisplayName',\n",
       " 'AlphaSort',\n",
       " 'FirstName',\n",
       " 'MiddleName',\n",
       " 'LastName',\n",
       " 'Suffix',\n",
       " 'Institution',\n",
       " 'Nationality',\n",
       " 'ConstituentBeginDate',\n",
       " 'ConstituentEndDate',\n",
       " 'ArtistBio',\n",
       " 'Gender',\n",
       " 'VIAFID',\n",
       " 'WikidataID',\n",
       " 'ULANID',\n",
       " 'ConstituentURL']"
      ]
     },
     "execution_count": 57,
     "metadata": {},
     "output_type": "execute_result"
    }
   ],
   "source": [
    "exd.columns.tolist()"
   ]
  },
  {
   "cell_type": "markdown",
   "metadata": {},
   "source": [
    "## John Cage \n",
    "\n",
    "Let's take a look at one artist and try to get an idea for the surrounding data given the term, John Cage."
   ]
  },
  {
   "cell_type": "code",
   "execution_count": 3,
   "metadata": {},
   "outputs": [],
   "source": [
    "cage = exd.loc[exd['DisplayName'] == 'John Cage']"
   ]
  },
  {
   "cell_type": "markdown",
   "metadata": {},
   "source": [
    "Cage was in 7 shows."
   ]
  },
  {
   "cell_type": "code",
   "execution_count": 59,
   "metadata": {
    "scrolled": true
   },
   "outputs": [
    {
     "data": {
      "text/plain": [
       "7"
      ]
     },
     "execution_count": 59,
     "metadata": {},
     "output_type": "execute_result"
    }
   ],
   "source": [
    "len(cage)"
   ]
  },
  {
   "cell_type": "code",
   "execution_count": 60,
   "metadata": {
    "scrolled": true
   },
   "outputs": [
    {
     "data": {
      "text/html": [
       "<div>\n",
       "<style scoped>\n",
       "    .dataframe tbody tr th:only-of-type {\n",
       "        vertical-align: middle;\n",
       "    }\n",
       "\n",
       "    .dataframe tbody tr th {\n",
       "        vertical-align: top;\n",
       "    }\n",
       "\n",
       "    .dataframe thead th {\n",
       "        text-align: right;\n",
       "    }\n",
       "</style>\n",
       "<table border=\"1\" class=\"dataframe\">\n",
       "  <thead>\n",
       "    <tr style=\"text-align: right;\">\n",
       "      <th></th>\n",
       "      <th>ExhibitionNumber</th>\n",
       "      <th>ExhibitionID</th>\n",
       "      <th>ExhibitionTitle</th>\n",
       "    </tr>\n",
       "  </thead>\n",
       "  <tbody>\n",
       "    <tr>\n",
       "      <th>25073</th>\n",
       "      <td>1054b</td>\n",
       "      <td>4114.0</td>\n",
       "      <td>Works on Paper</td>\n",
       "    </tr>\n",
       "    <tr>\n",
       "      <th>26020</th>\n",
       "      <td>1117</td>\n",
       "      <td>2964.0</td>\n",
       "      <td>Drawing Now: 1955�1975</td>\n",
       "    </tr>\n",
       "    <tr>\n",
       "      <th>26679</th>\n",
       "      <td>1157</td>\n",
       "      <td>443.0</td>\n",
       "      <td>Prints: Acquisitions, 1973�1976</td>\n",
       "    </tr>\n",
       "    <tr>\n",
       "      <th>26860</th>\n",
       "      <td>1163</td>\n",
       "      <td>3822.0</td>\n",
       "      <td>Projects: Buckminster Fuller and John Cage</td>\n",
       "    </tr>\n",
       "    <tr>\n",
       "      <th>27302</th>\n",
       "      <td>1186</td>\n",
       "      <td>3758.0</td>\n",
       "      <td>American Drawn and Matched</td>\n",
       "    </tr>\n",
       "    <tr>\n",
       "      <th>28485</th>\n",
       "      <td>1252a</td>\n",
       "      <td>10555.0</td>\n",
       "      <td>The Stage Show</td>\n",
       "    </tr>\n",
       "    <tr>\n",
       "      <th>33216</th>\n",
       "      <td>1468</td>\n",
       "      <td>911.0</td>\n",
       "      <td>For 25 Years: Crown Point Press</td>\n",
       "    </tr>\n",
       "  </tbody>\n",
       "</table>\n",
       "</div>"
      ],
      "text/plain": [
       "      ExhibitionNumber  ExhibitionID  \\\n",
       "25073            1054b        4114.0   \n",
       "26020             1117        2964.0   \n",
       "26679             1157         443.0   \n",
       "26860             1163        3822.0   \n",
       "27302             1186        3758.0   \n",
       "28485            1252a       10555.0   \n",
       "33216             1468         911.0   \n",
       "\n",
       "                                  ExhibitionTitle  \n",
       "25073                              Works on Paper  \n",
       "26020                      Drawing Now: 1955�1975  \n",
       "26679             Prints: Acquisitions, 1973�1976  \n",
       "26860  Projects: Buckminster Fuller and John Cage  \n",
       "27302                  American Drawn and Matched  \n",
       "28485                              The Stage Show  \n",
       "33216             For 25 Years: Crown Point Press  "
      ]
     },
     "execution_count": 60,
     "metadata": {},
     "output_type": "execute_result"
    }
   ],
   "source": [
    "cage[['ExhibitionNumber', 'ExhibitionID', 'ExhibitionTitle']]"
   ]
  },
  {
   "cell_type": "markdown",
   "metadata": {},
   "source": [
    "What other artists were in these shows?"
   ]
  },
  {
   "cell_type": "code",
   "execution_count": 61,
   "metadata": {
    "scrolled": true
   },
   "outputs": [
    {
     "data": {
      "text/plain": [
       "['Martha Beck',\n",
       " 'James Bishop',\n",
       " 'John Cage',\n",
       " 'John Edward Dowell',\n",
       " 'Steve Gianakos',\n",
       " 'Michael Goldberg',\n",
       " 'Robert Grosvenor',\n",
       " 'Michael Heizer',\n",
       " 'Hans Hollein',\n",
       " 'Robert Israel',\n",
       " 'Jack Krueger',\n",
       " 'Walter Pichler',\n",
       " 'Alan Saret',\n",
       " 'Michelle Stuart',\n",
       " 'Richard Tuttle',\n",
       " 'Michael Venezia']"
      ]
     },
     "execution_count": 61,
     "metadata": {},
     "output_type": "execute_result"
    }
   ],
   "source": [
    "wp = exd.loc[exd['ExhibitionID'] == 4114]\n",
    "wp['DisplayName'].tolist()"
   ]
  },
  {
   "cell_type": "markdown",
   "metadata": {},
   "source": [
    "Let's get an array of all the artists Cage is associated with."
   ]
  },
  {
   "cell_type": "code",
   "execution_count": 47,
   "metadata": {
    "scrolled": false
   },
   "outputs": [
    {
     "data": {
      "text/plain": [
       "['Agnes Martin',\n",
       " 'Al Held',\n",
       " 'Alan Saret',\n",
       " 'Alan Saret',\n",
       " 'Alberto Giacometti',\n",
       " 'Alberto Magnelli',\n",
       " 'Alex Katz',\n",
       " 'Alex Katz',\n",
       " 'Alex Katz',\n",
       " 'Alexander Calder',\n",
       " 'Andr� Beaudin',\n",
       " 'Andr� Derain',\n",
       " 'Andr� Dunoyer de Segonzac',\n",
       " 'Andr� Masson',\n",
       " 'Andy Warhol',\n",
       " 'Andy Warhol',\n",
       " 'Andy Warhol',\n",
       " 'Antonio Frasconi',\n",
       " 'Arnaldo Pomodoro',\n",
       " 'Art & Language',\n",
       " 'Art Lending Service, The Museum of Modern Art, New York',\n",
       " 'Audrey Flack',\n",
       " 'Ay-O',\n",
       " 'Bea Maddock',\n",
       " 'Ben Schonzeit',\n",
       " 'Ben Shahn',\n",
       " 'Ben Vautier',\n",
       " 'Benny Andrews',\n",
       " 'Bernice Rose',\n",
       " 'Bernice Rose',\n",
       " 'Blinky Palermo',\n",
       " 'Blinky Palermo',\n",
       " 'Brice Marden',\n",
       " 'Brice Marden',\n",
       " 'Brice Marden',\n",
       " 'Bridget Riley',\n",
       " 'Bruce Nauman',\n",
       " 'Bruce Nauman',\n",
       " 'Camille Bryen',\n",
       " 'Carel Visser',\n",
       " 'Carl Andre',\n",
       " 'Carl Andre',\n",
       " 'Charles Hinman',\n",
       " 'Chris Burden',\n",
       " 'Christo (Christo Javacheff)',\n",
       " 'Christopher Knowles',\n",
       " 'Chuck Close',\n",
       " 'Chuck Close',\n",
       " 'Chuck Close',\n",
       " 'Claes Oldenburg',\n",
       " 'Claes Oldenburg',\n",
       " 'Claire (Claire Mahl) Moore',\n",
       " 'Cletus Johnson',\n",
       " 'Cy Twombly',\n",
       " 'Cy Twombly',\n",
       " 'Dan Flavin',\n",
       " 'Dan Flavin',\n",
       " 'Daniel Buren',\n",
       " 'David Hockney',\n",
       " 'David Hockney',\n",
       " 'David Novros',\n",
       " 'David Trowbridge',\n",
       " 'David True',\n",
       " 'Donald Judd',\n",
       " 'Dorothea Rockburne',\n",
       " 'Edda Renouf',\n",
       " 'Edda Renouf',\n",
       " 'Eduardo Chillida',\n",
       " 'Edward Ruscha',\n",
       " 'Edward Ruscha',\n",
       " 'Elaine de Kooning',\n",
       " 'Ellsworth Kelly',\n",
       " 'Ellsworth Kelly',\n",
       " 'Eva Hesse',\n",
       " 'Francesco Clemente',\n",
       " 'Frank Stella',\n",
       " 'Frank Stella',\n",
       " 'Frans van der Steen',\n",
       " 'Fred Sandback',\n",
       " 'Fred Sandback',\n",
       " 'Fred Sandback',\n",
       " 'Fred Williams',\n",
       " 'Frederick Kiesler',\n",
       " 'F�lix Vallotton',\n",
       " 'Georg Baselitz',\n",
       " 'G�nter Brus',\n",
       " 'G�nther Uecker',\n",
       " 'Hamish Fulton',\n",
       " 'Hanne Darboven',\n",
       " 'Hans Hollein',\n",
       " 'Helen Frankenthaler',\n",
       " 'Helen Frankenthaler',\n",
       " 'Henri Matisse',\n",
       " 'Iain Baxter&',\n",
       " 'Ilya Bolotowsky',\n",
       " 'Italo Scanga',\n",
       " 'Jack Krueger',\n",
       " 'James Bishop',\n",
       " 'James Lee Byars',\n",
       " 'James Rosenquist',\n",
       " 'James Wyeth',\n",
       " 'Jane Freilicher',\n",
       " 'Jasper Johns',\n",
       " 'Jasper Johns',\n",
       " 'Jasper Johns',\n",
       " 'Jean (Hans) Arp',\n",
       " 'Jean Dubuffet',\n",
       " 'Jean Dupuy',\n",
       " 'Jean Tinguely',\n",
       " 'Jim Amaral',\n",
       " 'Jim Dine',\n",
       " 'Jim Dine',\n",
       " 'Jim Dine',\n",
       " 'Joan Jonas',\n",
       " 'Joan Mir�',\n",
       " 'Joe Brainard',\n",
       " 'John Cage',\n",
       " 'John Cage',\n",
       " 'John Cage',\n",
       " 'John Cage',\n",
       " 'John Cage',\n",
       " 'John Cage',\n",
       " 'John Cage',\n",
       " 'John Edward Dowell',\n",
       " 'Joseph Beuys',\n",
       " 'Judy Pfaff',\n",
       " 'Jules Pascin',\n",
       " 'Keith Sonnier',\n",
       " 'Kim MacConnel',\n",
       " 'Larry Poons',\n",
       " 'Larry Rivers',\n",
       " 'Laurie Anderson',\n",
       " 'Lawrence Weiner',\n",
       " 'Lee Krasner',\n",
       " 'Lee Ufan',\n",
       " 'Lloyd Goldsmith',\n",
       " 'Louis Marcoussis',\n",
       " 'Lucas Samaras',\n",
       " 'L�opold Survage',\n",
       " 'Marisol (Marisol Escobar)',\n",
       " 'Marisol (Marisol Escobar)',\n",
       " 'Mark di Suvero',\n",
       " 'Martha Beck',\n",
       " 'Max Ernst',\n",
       " 'Mel Bochner',\n",
       " 'Mel Bochner',\n",
       " 'Melvin Edwards',\n",
       " 'Michael Goldberg',\n",
       " 'Michael Heizer',\n",
       " 'Michael Heizer',\n",
       " 'Michael Venezia',\n",
       " 'Michelle Stuart',\n",
       " 'Milton Avery',\n",
       " 'Morris Graves',\n",
       " 'Nancy Graves',\n",
       " 'Nicholas Krushenick',\n",
       " 'Oskar Kokoschka',\n",
       " 'Otto Dix',\n",
       " 'Pablo Picasso',\n",
       " 'Panamarenko',\n",
       " 'Pat Oleszko',\n",
       " 'Pat Steir',\n",
       " 'Pat Steir',\n",
       " 'Pat Steir',\n",
       " 'Piero Manzoni',\n",
       " 'Piet Mondrian',\n",
       " 'Pol Bury',\n",
       " 'R. Buckminster Fuller',\n",
       " 'Ralston Crawford',\n",
       " 'Raoul Hausmann',\n",
       " 'Raymond Saunders',\n",
       " 'Red Grooms',\n",
       " 'Richard Diebenkorn',\n",
       " 'Richard Estes',\n",
       " 'Richard Hamilton',\n",
       " 'Richard Pousette-Dart',\n",
       " 'Richard Serra',\n",
       " 'Richard Serra',\n",
       " 'Richard Smith',\n",
       " 'Richard Tuttle',\n",
       " 'Richard Tuttle',\n",
       " 'Richard Tuttle',\n",
       " 'Riva Castleman',\n",
       " 'Riva Castleman',\n",
       " 'Robert Grosvenor',\n",
       " 'Robert Hudson',\n",
       " 'Robert Indiana',\n",
       " 'Robert Israel',\n",
       " 'Robert Kushner',\n",
       " 'Robert Kushner',\n",
       " 'Robert Mangold',\n",
       " 'Robert Mangold',\n",
       " 'Robert Morris',\n",
       " 'Robert Morris',\n",
       " 'Robert Morris',\n",
       " 'Robert Morris',\n",
       " 'Robert Motherwell',\n",
       " 'Robert Rauschenberg',\n",
       " 'Robert Rauschenberg',\n",
       " 'Robert Rauschenberg',\n",
       " 'Robert Ryman',\n",
       " 'Robert Smithson',\n",
       " 'Robert Wilson',\n",
       " 'Roger Brown',\n",
       " 'Romare Bearden',\n",
       " 'Romare Bearden',\n",
       " 'Roy Lichtenstein',\n",
       " 'Roy Lichtenstein',\n",
       " 'Sam Gilliam',\n",
       " 'Shoichi Ida',\n",
       " 'Shusaku Arakawa',\n",
       " 'Sol LeWitt',\n",
       " 'Sol LeWitt',\n",
       " 'Sol LeWitt',\n",
       " 'Sol LeWitt',\n",
       " 'Sonia Gechtoff',\n",
       " 'Steve Gianakos',\n",
       " 'Steve Reich',\n",
       " 'Susan Kaprov',\n",
       " 'Susan Rothenberg',\n",
       " 'Sylvia Plimack Mangold',\n",
       " 'Tchah-Sup Kim',\n",
       " 'Terry Fox',\n",
       " 'Theo Wujcik',\n",
       " 'Th�ophile-Alexandre Steinlen',\n",
       " 'Tina Girouard',\n",
       " 'Tom Holland',\n",
       " 'Tom Marioni',\n",
       " 'Tom Wesselmann',\n",
       " 'Vito Acconci',\n",
       " 'Vladimir Michailovich Konashevich',\n",
       " 'Wallace Berman',\n",
       " 'Walter Pichler',\n",
       " 'Wayne Thiebaud',\n",
       " 'Will Insley',\n",
       " 'William Copley',\n",
       " 'William S. Lieberman',\n",
       " 'William T. Wiley',\n",
       " 'William T. Wiley',\n",
       " 'William T. Wiley',\n",
       " 'William T. Wiley',\n",
       " 'William Tillyer',\n",
       " 'Yves Tanguy',\n",
       " 'Yvonne Jacquette',\n",
       " '�yvind Fahlstr�m']"
      ]
     },
     "execution_count": 47,
     "metadata": {},
     "output_type": "execute_result"
    }
   ],
   "source": [
    "artists = []\n",
    "for i in cage['ExhibitionID']:\n",
    "    show = exd.loc[exd['ExhibitionID'] == i]\n",
    "    [artists.append(s) for s in show['DisplayName'].tolist()]\n",
    "\n",
    "artists.sort(); artists"
   ]
  },
  {
   "cell_type": "code",
   "execution_count": 48,
   "metadata": {},
   "outputs": [],
   "source": [
    "a = pd.DataFrame(artists)"
   ]
  },
  {
   "cell_type": "markdown",
   "metadata": {},
   "source": [
    "What is the frequency which these artists occur in this list?"
   ]
  },
  {
   "cell_type": "code",
   "execution_count": 49,
   "metadata": {},
   "outputs": [
    {
     "data": {
      "text/html": [
       "<div>\n",
       "<style scoped>\n",
       "    .dataframe tbody tr th:only-of-type {\n",
       "        vertical-align: middle;\n",
       "    }\n",
       "\n",
       "    .dataframe tbody tr th {\n",
       "        vertical-align: top;\n",
       "    }\n",
       "\n",
       "    .dataframe thead th {\n",
       "        text-align: right;\n",
       "    }\n",
       "</style>\n",
       "<table border=\"1\" class=\"dataframe\">\n",
       "  <thead>\n",
       "    <tr style=\"text-align: right;\">\n",
       "      <th></th>\n",
       "      <th>count</th>\n",
       "    </tr>\n",
       "  </thead>\n",
       "  <tbody>\n",
       "    <tr>\n",
       "      <th>John Cage</th>\n",
       "      <td>7</td>\n",
       "    </tr>\n",
       "    <tr>\n",
       "      <th>Robert Morris</th>\n",
       "      <td>4</td>\n",
       "    </tr>\n",
       "    <tr>\n",
       "      <th>Sol LeWitt</th>\n",
       "      <td>4</td>\n",
       "    </tr>\n",
       "    <tr>\n",
       "      <th>William T. Wiley</th>\n",
       "      <td>4</td>\n",
       "    </tr>\n",
       "  </tbody>\n",
       "</table>\n",
       "</div>"
      ],
      "text/plain": [
       "                  count\n",
       "John Cage             7\n",
       "Robert Morris         4\n",
       "Sol LeWitt            4\n",
       "William T. Wiley      4"
      ]
     },
     "execution_count": 49,
     "metadata": {},
     "output_type": "execute_result"
    }
   ],
   "source": [
    "cage_count = {}\n",
    "\n",
    "for artist in artists:\n",
    "    cage_count.setdefault(artist, 0)\n",
    "    cage_count[artist] += 1\n",
    "\n",
    "cage_count_df = pd.DataFrame({'count': cage_count})\n",
    "cage_count_df.loc[cage_count_df['count'] >= 4].sort_values('count', ascending=False)"
   ]
  },
  {
   "cell_type": "markdown",
   "metadata": {},
   "source": [
    "According to this I would expect these three artists to have the highest similarity in the trained model."
   ]
  },
  {
   "cell_type": "code",
   "execution_count": 7,
   "metadata": {},
   "outputs": [],
   "source": [
    "import word2vec"
   ]
  },
  {
   "cell_type": "code",
   "execution_count": 8,
   "metadata": {},
   "outputs": [],
   "source": [
    "model = word2vec.load('../word2vec/word2vec_output.bin')"
   ]
  },
  {
   "cell_type": "code",
   "execution_count": 24,
   "metadata": {},
   "outputs": [
    {
     "data": {
      "text/plain": [
       "[('art_&_language', 0.6979109085805235),\n",
       " ('fred_sandback', 0.652470928871357),\n",
       " ('mark_di_suvero', 0.6413962847506356),\n",
       " ('larry_poons', 0.6350292764581003),\n",
       " ('dan_flavin', 0.6283743217440056),\n",
       " ('mel_bochner', 0.6206653480549449),\n",
       " ('�yvind_fahlstr�m', 0.6113966768420281),\n",
       " ('chuck_close', 0.6089421353703656),\n",
       " ('james_lee_byars', 0.6063705641385664),\n",
       " ('lawrence_weiner', 0.6000357451473296),\n",
       " ('richard_tuttle', 0.5913245035524064),\n",
       " ('michael_heizer', 0.5860156692353393),\n",
       " ('piero_manzoni', 0.5723869873349714),\n",
       " ('kazuko', 0.5672932496972538),\n",
       " ('hanne_darboven', 0.5622355329555835),\n",
       " ('dorothea_rockburne', 0.5551089291719715),\n",
       " ('bruce_nauman', 0.5207539405980035),\n",
       " ('william_t._wiley', 0.5190067307141962),\n",
       " ('panamarenko', 0.5155142134717646),\n",
       " ('leon_polk_smith', 0.515099089559946)]"
      ]
     },
     "execution_count": 24,
     "metadata": {},
     "output_type": "execute_result"
    }
   ],
   "source": [
    "i, m = model.similar('john_cage', n=20)\n",
    "model.generate_response(i, m).tolist()"
   ]
  },
  {
   "cell_type": "markdown",
   "metadata": {},
   "source": [
    "But actually, none of these come up in the top ten most similar. \n",
    "\n",
    "Let's double-check that."
   ]
  },
  {
   "cell_type": "code",
   "execution_count": 158,
   "metadata": {},
   "outputs": [
    {
     "data": {
      "text/plain": [
       "[('john_cage', 'robert_morris', 0.41157096481483973)]"
      ]
     },
     "execution_count": 158,
     "metadata": {},
     "output_type": "execute_result"
    }
   ],
   "source": [
    "model.distance('john_cage', 'robert_morris')"
   ]
  },
  {
   "cell_type": "code",
   "execution_count": 161,
   "metadata": {},
   "outputs": [
    {
     "data": {
      "text/plain": [
       "[('john_cage', 'sol_lewitt', 0.31788696646092496)]"
      ]
     },
     "execution_count": 161,
     "metadata": {},
     "output_type": "execute_result"
    }
   ],
   "source": [
    "model.distance('john_cage', 'sol_lewitt')"
   ]
  },
  {
   "cell_type": "code",
   "execution_count": 162,
   "metadata": {},
   "outputs": [
    {
     "data": {
      "text/plain": [
       "[('john_cage', 'william_t._wiley', 0.5190067307141963)]"
      ]
     },
     "execution_count": 162,
     "metadata": {},
     "output_type": "execute_result"
    }
   ],
   "source": [
    "model.distance('john_cage', 'william_t._wiley')"
   ]
  },
  {
   "cell_type": "markdown",
   "metadata": {},
   "source": [
    "So, the cosine similarity isn't the same as appearing in the same show.\n",
    "\n",
    "John Cage and Art & Language is a really good association. How many exhibitions do they co-occur in? Only one!"
   ]
  },
  {
   "cell_type": "code",
   "execution_count": 9,
   "metadata": {},
   "outputs": [
    {
     "data": {
      "text/plain": [
       "count    1\n",
       "Name: Art & Language, dtype: int64"
      ]
     },
     "execution_count": 9,
     "metadata": {},
     "output_type": "execute_result"
    }
   ],
   "source": [
    "cage_count_df.loc['Art & Language']"
   ]
  },
  {
   "cell_type": "markdown",
   "metadata": {},
   "source": [
    "Amazingly the artist Kazuko does not share any exhibition with Cage ..."
   ]
  },
  {
   "cell_type": "code",
   "execution_count": 45,
   "metadata": {},
   "outputs": [
    {
     "ename": "ValueError",
     "evalue": "'kazuko' is not in list",
     "output_type": "error",
     "traceback": [
      "\u001b[0;31m---------------------------------------------------------------------------\u001b[0m",
      "\u001b[0;31mValueError\u001b[0m                                Traceback (most recent call last)",
      "\u001b[0;32m<ipython-input-45-87f6f940b7a7>\u001b[0m in \u001b[0;36m<module>\u001b[0;34m\u001b[0m\n\u001b[0;32m----> 1\u001b[0;31m \u001b[0martists\u001b[0m\u001b[0;34m.\u001b[0m\u001b[0mindex\u001b[0m\u001b[0;34m(\u001b[0m\u001b[0;34m'kazuko'\u001b[0m\u001b[0;34m)\u001b[0m\u001b[0;34m\u001b[0m\u001b[0;34m\u001b[0m\u001b[0m\n\u001b[0m",
      "\u001b[0;31mValueError\u001b[0m: 'kazuko' is not in list"
     ]
    }
   ],
   "source": [
    "artists.index('kazuko')"
   ]
  },
  {
   "cell_type": "markdown",
   "metadata": {},
   "source": [
    "... but, falls before Wiley in the list of 20 most similar artists."
   ]
  },
  {
   "cell_type": "code",
   "execution_count": 33,
   "metadata": {},
   "outputs": [
    {
     "data": {
      "text/plain": [
       "[('john_cage', 'kazuko', 0.5672932496972538)]"
      ]
     },
     "execution_count": 33,
     "metadata": {},
     "output_type": "execute_result"
    }
   ],
   "source": [
    "model.distance('john_cage', 'kazuko')"
   ]
  },
  {
   "cell_type": "markdown",
   "metadata": {},
   "source": [
    "### Cage in Conclusion\n",
    "\n",
    "To summarize:\n",
    "\n",
    "1. Just because two artists appear in multiple shows together doesn't mean that they will have close cosine similarities. \n",
    "2. Artists can be similar without co-occuring in an exhibition.\n",
    "3. Two artists can be most simliar and only co-occur once.\n",
    "\n",
    "This leads me to believe that indirect relationships count for more than direct relationships.  (Which intuitively makes sense because there are more indirect relationships than direct ones.)"
   ]
  },
  {
   "cell_type": "markdown",
   "metadata": {},
   "source": [
    "## Looking at Context\n",
    "\n",
    "* What would a list of the total exhibition names look like? Since the dataset excludes exhbitions > 25, this could be significant. I would expect the exhibition names to give a clue to how artists are clustered. The association of Cage and A&L is a good one. (How does that hold up with other similarities?) Cage and A&L are both conceptual. A group show about Americans has less context than one on conceptual art. \n",
    "* Taking Cage, Kazuko and Art & Language, I wonder how similar their individual cohorts are. What artists co-occur in those lists? What artists don't?\n",
    "* This data is limited, but does it suggest that a category such as \"conceptual art\" exists through the artists' associations?"
   ]
  },
  {
   "cell_type": "code",
   "execution_count": null,
   "metadata": {},
   "outputs": [],
   "source": []
  }
 ],
 "metadata": {
  "kernelspec": {
   "display_name": "Python 3",
   "language": "python",
   "name": "python3"
  },
  "language_info": {
   "codemirror_mode": {
    "name": "ipython",
    "version": 3
   },
   "file_extension": ".py",
   "mimetype": "text/x-python",
   "name": "python",
   "nbconvert_exporter": "python",
   "pygments_lexer": "ipython3",
   "version": "3.7.3"
  }
 },
 "nbformat": 4,
 "nbformat_minor": 2
}
